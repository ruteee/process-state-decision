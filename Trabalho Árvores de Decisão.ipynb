{
 "cells": [
  {
   "cell_type": "markdown",
   "metadata": {},
   "source": [
    "# Árvores de Decisão\n",
    "\n",
    "- Escolher uma base de dados para análise.\n",
    "- Fazer classificação dos dados utilizando árvore de decisão.\n",
    "- Faça análise de desempenho da solução:\n",
    " - métricas de desempenho (acurácia, recall, ROC, …) \n",
    " - critério (Gini, Entropia, ...)\n",
    " - técnicas de treinamento (validação cruzada, …)\n",
    "- Apresente os resultados com conclusões em 5 minutos.\n"
   ]
  },
  {
   "cell_type": "markdown",
   "metadata": {},
   "source": [
    "## Treinamento"
   ]
  },
  {
   "cell_type": "code",
   "execution_count": 66,
   "metadata": {},
   "outputs": [],
   "source": [
    "# imports\n",
    "import numpy as np\n",
    "import pandas as pd\n",
    "import matplotlib.pyplot as plt\n",
    "import seaborn as sns; sns.set()\n",
    "\n",
    "from sklearn.tree import DecisionTreeClassifier\n",
    "from sklearn.model_selection import train_test_split, cross_val_score, GridSearchCV\n",
    "from sklearn.pipeline import Pipeline\n",
    "from sklearn.metrics import accuracy_score, confusion_matrix, classification_report\n",
    "\n",
    "from sklearn import datasets"
   ]
  },
  {
   "cell_type": "code",
   "execution_count": 73,
   "metadata": {},
   "outputs": [
    {
     "name": "stdout",
     "output_type": "stream",
     "text": [
      "{'decision_tree__criterion': 'entropy', 'decision_tree__max_depth': 10}\n",
      "0.9378531073446328\n",
      "              precision    recall  f1-score   support\n",
      "\n",
      "           0       0.88      0.92      0.90        53\n",
      "           1       0.95      0.92      0.94        90\n",
      "\n",
      "   micro avg       0.92      0.92      0.92       143\n",
      "   macro avg       0.91      0.92      0.92       143\n",
      "weighted avg       0.92      0.92      0.92       143\n",
      "\n"
     ]
    },
    {
     "data": {
      "image/png": "[encoded data removed]",
      "text/plain": [
       "<Figure size 432x288 with 1 Axes>"
      ]
     },
     "metadata": {},
     "output_type": "display_data"
    }
   ],
   "source": [
    "# Load data\n",
    "data = datasets.load_breast_cancer()\n",
    "target_names = ['NORM', 'IDV2', 'IDV6', 'IDV7']\n",
    "\n",
    "# Cross Validation\n",
    "model = DecisionTreeClassifier()\n",
    "\n",
    "steps = [\n",
    "#   Prepocessing\n",
    "##  Calculate slopes\n",
    "#   ('slope', estimate_slopes),\n",
    "##  Feature Selection\n",
    "#   ('feat_sel', feat_sel),\n",
    "    ('decision_tree', model)\n",
    "]\n",
    "pipe = Pipeline(steps)\n",
    "\n",
    "pipe_params = {\n",
    "#     'slope__n': range(3, 21), # 2 < n <= 20, equivalente a 12 minutos\n",
    "    'decision_tree__max_depth': range(1, 11),\n",
    "    'decision_tree__criterion': ['gini', 'entropy']\n",
    "}\n",
    "\n",
    "grid_cv = GridSearchCV(pipe, param_grid=pipe_params, cv=10, scoring='f1')\n",
    "grid_cv.fit(X_train, y_train)\n",
    "best_params = grid_cv.best_params_\n",
    "y_pred = grid_cv.predict(X_test)\n",
    "\n",
    "print(grid_cv.best_params_)\n",
    "print(grid_cv.score(X_test, y_test))\n",
    "print(classification_report(y_test, y_pred))\n",
    "\n",
    "mat = confusion_matrix(y_test, y_pred)\n",
    "sns.heatmap(mat.T,\n",
    "            square=True,\n",
    "            annot=True,\n",
    "            fmt='d',\n",
    "            cbar=False,\n",
    "            xticklabels=target_names,\n",
    "            yticklabels=target_names)\n",
    "plt.xlabel('true label')\n",
    "plt.ylabel('predicted label');"
   ]
  }
 ],
 "metadata": {
  "kernelspec": {
   "display_name": "Python 3",
   "language": "python",
   "name": "python3"
  },
  "language_info": {
   "codemirror_mode": {
    "name": "ipython",
    "version": 3
   },
   "file_extension": ".py",
   "mimetype": "text/x-python",
   "name": "python",
   "nbconvert_exporter": "python",
   "pygments_lexer": "ipython3",
   "version": "3.7.1"
  }
 },
 "nbformat": 4,
 "nbformat_minor": 2
}
